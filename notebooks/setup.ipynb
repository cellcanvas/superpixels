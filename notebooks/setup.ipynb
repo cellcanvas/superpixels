{
 "cells": [
  {
   "cell_type": "code",
   "execution_count": 5,
   "metadata": {},
   "outputs": [],
   "source": [
    "# Set the project_data_dir to the Google Drive directory\n",
    "from pathlib import Path\n",
    "\n",
    "project_data_dir = Path(\"/Users/kharrington/Library/CloudStorage/GoogleDrive-kharrington@chanzuckerberg.com/My Drive/2024_CZHackathon_InteractiveImageEmbeddings\")"
   ]
  },
  {
   "cell_type": "code",
   "execution_count": 9,
   "metadata": {},
   "outputs": [
    {
     "name": "stdout",
     "output_type": "stream",
     "text": [
      "Customized config saved to: /Users/kharrington/Library/CloudStorage/GoogleDrive-kharrington@chanzuckerberg.com/My Drive/2024_CZHackathon_InteractiveImageEmbeddings/copick_10439/synthetic_data_10439_kharrington.json\n"
     ]
    }
   ],
   "source": [
    "# Create your version of the copick project config\n",
    "\n",
    "import json\n",
    "import os\n",
    "import getpass\n",
    "\n",
    "# Load the original template\n",
    "template_file = project_data_dir / \"copick_10439\" / \"synthetic_data_10439_template.json\"\n",
    "\n",
    "# Load the template JSON data\n",
    "with open(template_file, 'r') as f:\n",
    "    config_data = json.load(f)\n",
    "\n",
    "# Get the current user's username\n",
    "username = getpass.getuser()\n",
    "\n",
    "# Define the new user's project_data_directory\n",
    "new_project_data_dir = Path(f\"/path/to/{username}/project_data\")\n",
    "\n",
    "# Update the overlay and static paths with the new user's project_data_directory\n",
    "config_data[\"overlay_root\"] = f\"local://{project_data_dir}/copick_10439/overlay\"\n",
    "config_data[\"static_root\"] = f\"local://{project_data_dir}/copick_10439/static\"\n",
    "\n",
    "# Define the new file path for the user\n",
    "new_file_path = project_data_dir / \"copick_10439\" / f\"synthetic_data_10439_{username}.json\"\n",
    "\n",
    "# Ensure the new directory exists\n",
    "# os.makedirs(project_data_dir, exist_ok=True)\n",
    "\n",
    "# Save the updated configuration to a new JSON file\n",
    "with open(new_file_path, 'w') as f:\n",
    "    json.dump(config_data, f, indent=4)\n",
    "\n",
    "print(f\"Customized config saved to: {new_file_path}\")\n"
   ]
  },
  {
   "cell_type": "code",
   "execution_count": null,
   "metadata": {},
   "outputs": [],
   "source": []
  }
 ],
 "metadata": {
  "kernelspec": {
   "display_name": "Python 3",
   "language": "python",
   "name": "python3"
  },
  "language_info": {
   "codemirror_mode": {
    "name": "ipython",
    "version": 3
   },
   "file_extension": ".py",
   "mimetype": "text/x-python",
   "name": "python",
   "nbconvert_exporter": "python",
   "pygments_lexer": "ipython3",
   "version": "3.10.8"
  }
 },
 "nbformat": 4,
 "nbformat_minor": 2
}
