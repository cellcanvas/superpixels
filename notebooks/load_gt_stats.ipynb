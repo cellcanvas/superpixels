{
 "cells": [
  {
   "cell_type": "markdown",
   "metadata": {},
   "source": [
    "Dependencies"
   ]
  },
  {
   "cell_type": "code",
   "metadata": {
    "ExecuteTime": {
     "end_time": "2024-09-19T03:52:58.202486Z",
     "start_time": "2024-09-19T03:52:57.779550Z"
    }
   },
   "source": [
    "# The following magic causes the notebook to reload external python modules upon execution of a cell\n",
    "# This is useful when developing modules in parallel to the notebook\n",
    "%load_ext autoreload\n",
    "%autoreload 2\n",
    "\n",
    "import pickle\n",
    "from cellcanvas_spp.ground_truth import ground_truth_count, ground_truth_stats\n",
    "import numpy as np\n",
    "import pandas as pd"
   ],
   "outputs": [],
   "execution_count": 1
  },
  {
   "cell_type": "markdown",
   "metadata": {},
   "source": [
    "Load data"
   ]
  },
  {
   "cell_type": "code",
   "metadata": {
    "ExecuteTime": {
     "end_time": "2024-09-19T03:53:02.358700Z",
     "start_time": "2024-09-19T03:52:58.207327Z"
    }
   },
   "source": [
    "DATA_DIR = '/Users/eraymond/src/czi/superpixels/data/copick_10439/dataset_run_16195.pickle'\n",
    "\n",
    "file = open(DATA_DIR, 'rb')\n",
    "\n",
    "data = pickle.load(file)\n",
    "print('keys:',data.keys())\n",
    "\n",
    "ground_truth    = data['label']\n",
    "superpixels     = data['superpixels']\n",
    "print(superpixels.shape)\n",
    "print(ground_truth.shape)\n"
   ],
   "outputs": [
    {
     "name": "stdout",
     "output_type": "stream",
     "text": [
      "keys: dict_keys(['image', 'label', 'sk_features', 'superpixels'])\n",
      "(200, 630, 630)\n",
      "(200, 630, 630)\n"
     ]
    }
   ],
   "execution_count": 2
  },
  {
   "cell_type": "markdown",
   "metadata": {},
   "source": [
    "Calculate ground-truth dataframe"
   ]
  },
  {
   "cell_type": "code",
   "metadata": {
    "ExecuteTime": {
     "end_time": "2024-09-19T03:53:02.869106Z",
     "start_time": "2024-09-19T03:53:02.601531Z"
    }
   },
   "source": [
    "# df_with_gt = ground_truth_count(superpixels,ground_truth)\n",
    "# \n",
    "# un,co = np.unique(df_with_gt['ground_truth'].values,return_counts=True)\n",
    "# \n",
    "# print('labels:',un)\n",
    "# print('number of superpixels with this label:',co)"
   ],
   "outputs": [],
   "execution_count": 3
  },
  {
   "metadata": {
    "ExecuteTime": {
     "end_time": "2024-09-19T03:53:10.297681Z",
     "start_time": "2024-09-19T03:53:03.020687Z"
    }
   },
   "cell_type": "code",
   "source": [
    "df_with_gt_stats = ground_truth_stats(superpixels,ground_truth)\n",
    "\n",
    "labelled_stats = df_with_gt_stats[df_with_gt_stats['labels_present_count'] != 0]\n",
    "pd.options.display.float_format = '{:.4f}'.format\n",
    "labelled_stats"
   ],
   "outputs": [
    {
     "data": {
      "text/plain": [
       "               labels_present_count  labels_present_count/total_labels  \\\n",
       "label                                                                    \n",
       "20618.0000                   1.0000                             0.1250   \n",
       "22066.0000                   1.0000                             0.1250   \n",
       "26308.0000                   1.0000                             0.1250   \n",
       "26966.0000                   1.0000                             0.1250   \n",
       "29468.0000                   1.0000                             0.1250   \n",
       "...                             ...                                ...   \n",
       "79342437.0000                3.0000                             0.3750   \n",
       "79353141.0000                1.0000                             0.1250   \n",
       "79355648.0000                1.0000                             0.1250   \n",
       "79361321.0000                1.0000                             0.1250   \n",
       "79367642.0000                1.0000                             0.1250   \n",
       "\n",
       "               majority_label_count/total  \\\n",
       "label                                       \n",
       "20618.0000                         0.0190   \n",
       "22066.0000                         0.0110   \n",
       "26308.0000                         0.0086   \n",
       "26966.0000                         0.0101   \n",
       "29468.0000                         0.0004   \n",
       "...                                   ...   \n",
       "79342437.0000                      0.0121   \n",
       "79353141.0000                      0.0254   \n",
       "79355648.0000                      0.0341   \n",
       "79361321.0000                      0.0014   \n",
       "79367642.0000                      0.0047   \n",
       "\n",
       "               background_count/majority_label_count  background_count  \\\n",
       "label                                                                    \n",
       "20618.0000                                   51.7317         4242.0000   \n",
       "22066.0000                                   89.8689        23995.0000   \n",
       "26308.0000                                  115.8261         2664.0000   \n",
       "26966.0000                                   98.3146         8750.0000   \n",
       "29468.0000                                 2512.0000         5024.0000   \n",
       "...                                              ...               ...   \n",
       "79342437.0000                                81.5679        23410.0000   \n",
       "79353141.0000                                38.4127         2420.0000   \n",
       "79355648.0000                                28.3131         2803.0000   \n",
       "79361321.0000                               724.5000         1449.0000   \n",
       "79367642.0000                               212.6316        20200.0000   \n",
       "\n",
       "               majority_label_count      total  \n",
       "label                                           \n",
       "20618.0000                  82.0000  4324.0000  \n",
       "22066.0000                 267.0000 24262.0000  \n",
       "26308.0000                  23.0000  2687.0000  \n",
       "26966.0000                  89.0000  8839.0000  \n",
       "29468.0000                   2.0000  5026.0000  \n",
       "...                             ...        ...  \n",
       "79342437.0000              287.0000 23783.0000  \n",
       "79353141.0000               63.0000  2483.0000  \n",
       "79355648.0000               99.0000  2902.0000  \n",
       "79361321.0000                2.0000  1451.0000  \n",
       "79367642.0000               95.0000 20295.0000  \n",
       "\n",
       "[10340 rows x 7 columns]"
      ],
      "text/html": [
       "<div>\n",
       "<style scoped>\n",
       "    .dataframe tbody tr th:only-of-type {\n",
       "        vertical-align: middle;\n",
       "    }\n",
       "\n",
       "    .dataframe tbody tr th {\n",
       "        vertical-align: top;\n",
       "    }\n",
       "\n",
       "    .dataframe thead th {\n",
       "        text-align: right;\n",
       "    }\n",
       "</style>\n",
       "<table border=\"1\" class=\"dataframe\">\n",
       "  <thead>\n",
       "    <tr style=\"text-align: right;\">\n",
       "      <th></th>\n",
       "      <th>labels_present_count</th>\n",
       "      <th>labels_present_count/total_labels</th>\n",
       "      <th>majority_label_count/total</th>\n",
       "      <th>background_count/majority_label_count</th>\n",
       "      <th>background_count</th>\n",
       "      <th>majority_label_count</th>\n",
       "      <th>total</th>\n",
       "    </tr>\n",
       "    <tr>\n",
       "      <th>label</th>\n",
       "      <th></th>\n",
       "      <th></th>\n",
       "      <th></th>\n",
       "      <th></th>\n",
       "      <th></th>\n",
       "      <th></th>\n",
       "      <th></th>\n",
       "    </tr>\n",
       "  </thead>\n",
       "  <tbody>\n",
       "    <tr>\n",
       "      <th>20618.0000</th>\n",
       "      <td>1.0000</td>\n",
       "      <td>0.1250</td>\n",
       "      <td>0.0190</td>\n",
       "      <td>51.7317</td>\n",
       "      <td>4242.0000</td>\n",
       "      <td>82.0000</td>\n",
       "      <td>4324.0000</td>\n",
       "    </tr>\n",
       "    <tr>\n",
       "      <th>22066.0000</th>\n",
       "      <td>1.0000</td>\n",
       "      <td>0.1250</td>\n",
       "      <td>0.0110</td>\n",
       "      <td>89.8689</td>\n",
       "      <td>23995.0000</td>\n",
       "      <td>267.0000</td>\n",
       "      <td>24262.0000</td>\n",
       "    </tr>\n",
       "    <tr>\n",
       "      <th>26308.0000</th>\n",
       "      <td>1.0000</td>\n",
       "      <td>0.1250</td>\n",
       "      <td>0.0086</td>\n",
       "      <td>115.8261</td>\n",
       "      <td>2664.0000</td>\n",
       "      <td>23.0000</td>\n",
       "      <td>2687.0000</td>\n",
       "    </tr>\n",
       "    <tr>\n",
       "      <th>26966.0000</th>\n",
       "      <td>1.0000</td>\n",
       "      <td>0.1250</td>\n",
       "      <td>0.0101</td>\n",
       "      <td>98.3146</td>\n",
       "      <td>8750.0000</td>\n",
       "      <td>89.0000</td>\n",
       "      <td>8839.0000</td>\n",
       "    </tr>\n",
       "    <tr>\n",
       "      <th>29468.0000</th>\n",
       "      <td>1.0000</td>\n",
       "      <td>0.1250</td>\n",
       "      <td>0.0004</td>\n",
       "      <td>2512.0000</td>\n",
       "      <td>5024.0000</td>\n",
       "      <td>2.0000</td>\n",
       "      <td>5026.0000</td>\n",
       "    </tr>\n",
       "    <tr>\n",
       "      <th>...</th>\n",
       "      <td>...</td>\n",
       "      <td>...</td>\n",
       "      <td>...</td>\n",
       "      <td>...</td>\n",
       "      <td>...</td>\n",
       "      <td>...</td>\n",
       "      <td>...</td>\n",
       "    </tr>\n",
       "    <tr>\n",
       "      <th>79342437.0000</th>\n",
       "      <td>3.0000</td>\n",
       "      <td>0.3750</td>\n",
       "      <td>0.0121</td>\n",
       "      <td>81.5679</td>\n",
       "      <td>23410.0000</td>\n",
       "      <td>287.0000</td>\n",
       "      <td>23783.0000</td>\n",
       "    </tr>\n",
       "    <tr>\n",
       "      <th>79353141.0000</th>\n",
       "      <td>1.0000</td>\n",
       "      <td>0.1250</td>\n",
       "      <td>0.0254</td>\n",
       "      <td>38.4127</td>\n",
       "      <td>2420.0000</td>\n",
       "      <td>63.0000</td>\n",
       "      <td>2483.0000</td>\n",
       "    </tr>\n",
       "    <tr>\n",
       "      <th>79355648.0000</th>\n",
       "      <td>1.0000</td>\n",
       "      <td>0.1250</td>\n",
       "      <td>0.0341</td>\n",
       "      <td>28.3131</td>\n",
       "      <td>2803.0000</td>\n",
       "      <td>99.0000</td>\n",
       "      <td>2902.0000</td>\n",
       "    </tr>\n",
       "    <tr>\n",
       "      <th>79361321.0000</th>\n",
       "      <td>1.0000</td>\n",
       "      <td>0.1250</td>\n",
       "      <td>0.0014</td>\n",
       "      <td>724.5000</td>\n",
       "      <td>1449.0000</td>\n",
       "      <td>2.0000</td>\n",
       "      <td>1451.0000</td>\n",
       "    </tr>\n",
       "    <tr>\n",
       "      <th>79367642.0000</th>\n",
       "      <td>1.0000</td>\n",
       "      <td>0.1250</td>\n",
       "      <td>0.0047</td>\n",
       "      <td>212.6316</td>\n",
       "      <td>20200.0000</td>\n",
       "      <td>95.0000</td>\n",
       "      <td>20295.0000</td>\n",
       "    </tr>\n",
       "  </tbody>\n",
       "</table>\n",
       "<p>10340 rows × 7 columns</p>\n",
       "</div>"
      ]
     },
     "execution_count": 4,
     "metadata": {},
     "output_type": "execute_result"
    }
   ],
   "execution_count": 4
  }
 ],
 "metadata": {
  "kernelspec": {
   "display_name": "superpixels",
   "language": "python",
   "name": "python3"
  },
  "language_info": {
   "codemirror_mode": {
    "name": "ipython",
    "version": 3
   },
   "file_extension": ".py",
   "mimetype": "text/x-python",
   "name": "python",
   "nbconvert_exporter": "python",
   "pygments_lexer": "ipython3",
   "version": "3.10.14"
  }
 },
 "nbformat": 4,
 "nbformat_minor": 2
}
