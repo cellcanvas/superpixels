{
 "cells": [
  {
   "cell_type": "markdown",
   "metadata": {},
   "source": [
    "Dependencies"
   ]
  },
  {
   "cell_type": "code",
   "execution_count": 6,
   "metadata": {},
   "outputs": [],
   "source": [
    "import pickle\n",
    "from cellcanvas_spp.ground_truth import ground_truth_count\n",
    "import numpy as np\n",
    "import pandas as pd"
   ]
  },
  {
   "cell_type": "markdown",
   "metadata": {},
   "source": [
    "Load data"
   ]
  },
  {
   "cell_type": "code",
   "execution_count": 2,
   "metadata": {},
   "outputs": [
    {
     "name": "stdout",
     "output_type": "stream",
     "text": [
      "keys: dict_keys(['image', 'label', 'sk_features', 'superpixels'])\n",
      "(200, 630, 630)\n",
      "(200, 630, 630)\n"
     ]
    }
   ],
   "source": [
    "DATA_DIR = '/Users/teun.huijben/Documents/code/github/superpixels/data/copick_10439/dataset_run_16195.pickle'\n",
    "\n",
    "file = open(DATA_DIR, 'rb')\n",
    "\n",
    "data = pickle.load(file)\n",
    "print('keys:',data.keys())\n",
    "\n",
    "ground_truth    = data['label']\n",
    "superpixels     = data['superpixels']\n",
    "print(superpixels.shape)\n",
    "print(ground_truth.shape)\n"
   ]
  },
  {
   "cell_type": "markdown",
   "metadata": {},
   "source": [
    "Calculate ground-truth dataframe"
   ]
  },
  {
   "cell_type": "code",
   "execution_count": 4,
   "metadata": {},
   "outputs": [
    {
     "name": "stdout",
     "output_type": "stream",
     "text": [
      "labels: [0 1 2 3 4 5 6 7]\n",
      "number of superpixels with this label: [7737  688 1131 2531  817 1448 1968 1757]\n"
     ]
    }
   ],
   "source": [
    "df_with_gt = ground_truth_count(superpixels,ground_truth)\n",
    "\n",
    "un,co = np.unique(df_with_gt['ground_truth'].values,return_counts=True)\n",
    "\n",
    "print('labels:',un)\n",
    "print('number of superpixels with this label:',co)"
   ]
  }
 ],
 "metadata": {
  "kernelspec": {
   "display_name": "superpixels",
   "language": "python",
   "name": "python3"
  },
  "language_info": {
   "codemirror_mode": {
    "name": "ipython",
    "version": 3
   },
   "file_extension": ".py",
   "mimetype": "text/x-python",
   "name": "python",
   "nbconvert_exporter": "python",
   "pygments_lexer": "ipython3",
   "version": "3.10.14"
  }
 },
 "nbformat": 4,
 "nbformat_minor": 2
}
